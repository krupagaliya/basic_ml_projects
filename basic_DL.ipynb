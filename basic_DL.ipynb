{
  "nbformat": 4,
  "nbformat_minor": 0,
  "metadata": {
    "colab": {
      "name": "04 DL.ipynb",
      "version": "0.3.2",
      "provenance": []
    },
    "kernelspec": {
      "display_name": "Python 3",
      "language": "python",
      "name": "python3"
    }
  },
  "cells": [
    {
      "cell_type": "markdown",
      "metadata": {
        "id": "view-in-github",
        "colab_type": "text"
      },
      "source": [
        "[View in Colaboratory](https://colab.research.google.com/github/krupagaliya/basic_ml_projects/blob/master/basic_DL.ipynb)"
      ]
    },
    {
      "metadata": {
        "id": "gb9PW-wu5bgy",
        "colab_type": "text"
      },
      "cell_type": "markdown",
      "source": [
        "**This Notebook has practising of implementation of basic Deel Learning algorithm with keras**"
      ]
    },
    {
      "metadata": {
        "id": "AUSdulBu5aiy",
        "colab_type": "code",
        "colab": {}
      },
      "cell_type": "code",
      "source": [
        "%matplotlib inline\n",
        "import matplotlib.pyplot as plt\n",
        "import pandas as pd\n",
        "import numpy as np"
      ],
      "execution_count": 0,
      "outputs": []
    },
    {
      "metadata": {
        "id": "ACCFJE7T4_5Z",
        "colab_type": "code",
        "colab": {}
      },
      "cell_type": "code",
      "source": [
        "from sklearn.datasets import make_moons"
      ],
      "execution_count": 0,
      "outputs": []
    },
    {
      "metadata": {
        "id": "O_msOGd64_5d",
        "colab_type": "code",
        "colab": {}
      },
      "cell_type": "code",
      "source": [
        "X, Y = make_moons(n_samples=1000,noise=0.1)"
      ],
      "execution_count": 0,
      "outputs": []
    },
    {
      "metadata": {
        "id": "l7I229qI4_5h",
        "colab_type": "code",
        "colab": {},
        "outputId": "12e5424e-c3f0-40a2-9137-cce555ef9d82"
      },
      "cell_type": "code",
      "source": [
        "X.shape"
      ],
      "execution_count": 0,
      "outputs": [
        {
          "output_type": "execute_result",
          "data": {
            "text/plain": [
              "(1000, 2)"
            ]
          },
          "metadata": {
            "tags": []
          },
          "execution_count": 146
        }
      ]
    },
    {
      "metadata": {
        "id": "7yVTKEjU4_5o",
        "colab_type": "code",
        "colab": {}
      },
      "cell_type": "code",
      "source": [
        "from sklearn.model_selection import train_test_split\n",
        "\n",
        "x_train, x_test, y_train, y_test = train_test_split(X,Y,test_size=0.3)"
      ],
      "execution_count": 0,
      "outputs": []
    },
    {
      "metadata": {
        "id": "8movYLxD4_5s",
        "colab_type": "code",
        "colab": {}
      },
      "cell_type": "code",
      "source": [
        "from keras.models import Sequential\n",
        "from keras.layers import Dense\n",
        "from keras.optimizers import SGD,Adam"
      ],
      "execution_count": 0,
      "outputs": []
    },
    {
      "metadata": {
        "id": "GVWBoeU74_5w",
        "colab_type": "text"
      },
      "cell_type": "markdown",
      "source": [
        "# shallow model"
      ]
    },
    {
      "metadata": {
        "id": "7WESBpoL4_5x",
        "colab_type": "code",
        "colab": {}
      },
      "cell_type": "code",
      "source": [
        "model = Sequential()\n",
        "model.add(Dense(1,input_shape=(2,),activation='sigmoid'))\n",
        "model.compile(Adam(lr=0.05),'binary_crossentropy',metrics=['accuracy'])"
      ],
      "execution_count": 0,
      "outputs": []
    },
    {
      "metadata": {
        "id": "JrMGp-4m4_51",
        "colab_type": "code",
        "colab": {},
        "outputId": "0536f762-4759-4ca0-e02e-904179db76d6"
      },
      "cell_type": "code",
      "source": [
        "model.fit(x_train, y_train, epochs=100, verbose=0) #training"
      ],
      "execution_count": 0,
      "outputs": [
        {
          "output_type": "execute_result",
          "data": {
            "text/plain": [
              "<keras.callbacks.History at 0x7ff7b85ab668>"
            ]
          },
          "metadata": {
            "tags": []
          },
          "execution_count": 150
        }
      ]
    },
    {
      "metadata": {
        "id": "bQkkpuY24_57",
        "colab_type": "code",
        "colab": {},
        "outputId": "f6485a40-10ed-4638-e97d-e3df599879b7"
      },
      "cell_type": "code",
      "source": [
        "results = model.evaluate(x_test, y_test)\n",
        "results[1] #it's accuracy"
      ],
      "execution_count": 0,
      "outputs": [
        {
          "output_type": "stream",
          "text": [
            " 64/300 [=====>........................] - ETA: 1s"
          ],
          "name": "stdout"
        },
        {
          "output_type": "execute_result",
          "data": {
            "text/plain": [
              "0.88"
            ]
          },
          "metadata": {
            "tags": []
          },
          "execution_count": 151
        }
      ]
    },
    {
      "metadata": {
        "id": "KCJoc7774_5_",
        "colab_type": "code",
        "colab": {},
        "outputId": "5a158f7d-0e29-4ef7-a0cd-83127308f16b"
      },
      "cell_type": "code",
      "source": [
        "def plot_decision_boundary(model, X, y):\n",
        "    amin, bmin = X.min(axis=0) - 0.1\n",
        "    amax, bmax = X.max(axis=0) + 0.1\n",
        "    hticks = np.linspace(amin, amax, 101)\n",
        "    vticks = np.linspace(bmin, bmax, 101)\n",
        "    \n",
        "    aa, bb = np.meshgrid(hticks, vticks)\n",
        "    ab = np.c_[aa.ravel(), bb.ravel()]\n",
        "    \n",
        "    c = model.predict(ab)\n",
        "    cc = c.reshape(aa.shape)\n",
        "\n",
        "    plt.figure(figsize=(12, 8))\n",
        "    plt.contourf(aa, bb, cc, cmap='bwr', alpha=0.2)\n",
        "    plt.plot(X[y==0, 0], X[y==0, 1], 'ob', alpha=0.5)\n",
        "    plt.plot(X[y==1, 0], X[y==1, 1], 'xr', alpha=0.5)\n",
        "    plt.legend(['0', '1'])\n",
        "    \n",
        "plot_decision_boundary(model, X, Y)"
      ],
      "execution_count": 0,
      "outputs": [
        {
          "output_type": "display_data",
          "data": {
            "image/png": "[encoded data removed]",
            "text/plain": [
              "<matplotlib.figure.Figure at 0x7ff793d34518>"
            ]
          },
          "metadata": {
            "tags": []
          }
        }
      ]
    },
    {
      "metadata": {
        "id": "NPYjmWu04_6E",
        "colab_type": "text"
      },
      "cell_type": "markdown",
      "source": [
        "# -Deep model"
      ]
    },
    {
      "metadata": {
        "id": "kPq0JtBV4_6F",
        "colab_type": "code",
        "colab": {}
      },
      "cell_type": "code",
      "source": [
        "model = Sequential()\n",
        "model.add(Dense(4,input_shape=(2,),activation='tanh')) #First layer #input units=2  #Output_units = 4 \n",
        "model.add(Dense(3,activation='tanh'))            #Second layer     #output_units = 3\n",
        "model.add(Dense(1,activation='sigmoid'))        #third layer    #output_units = 1 (Sigmoid) classification  \n",
        "\n",
        "model.compile(Adam(lr=0.05),'binary_crossentropy',metrics=['accuracy'])"
      ],
      "execution_count": 0,
      "outputs": []
    },
    {
      "metadata": {
        "id": "FoEK5wvv4_6J",
        "colab_type": "code",
        "colab": {},
        "outputId": "f43e7b25-4e52-43fc-953a-fa48ec3fbf89"
      },
      "cell_type": "code",
      "source": [
        "model.fit(x_train,y_train,epochs=200,verbose=0)"
      ],
      "execution_count": 0,
      "outputs": [
        {
          "output_type": "execute_result",
          "data": {
            "text/plain": [
              "<keras.callbacks.History at 0x7ff7b4675eb8>"
            ]
          },
          "metadata": {
            "tags": []
          },
          "execution_count": 53
        }
      ]
    },
    {
      "metadata": {
        "id": "kbcB9UwL4_6U",
        "colab_type": "code",
        "colab": {},
        "outputId": "d3ca78dc-c23b-447a-bc5c-6f1826abd201"
      },
      "cell_type": "code",
      "source": [
        "result = model.evaluate(x_test,y_test)\n",
        "result[1]"
      ],
      "execution_count": 0,
      "outputs": [
        {
          "output_type": "stream",
          "text": [
            "\r 32/300 [==>...........................] - ETA: 0s"
          ],
          "name": "stdout"
        },
        {
          "output_type": "execute_result",
          "data": {
            "text/plain": [
              "1.0"
            ]
          },
          "metadata": {
            "tags": []
          },
          "execution_count": 54
        }
      ]
    },
    {
      "metadata": {
        "id": "l5SZi6sd4_6a",
        "colab_type": "code",
        "colab": {},
        "outputId": "7eb5de29-2ab8-4dc9-aeec-3820544666a7"
      },
      "cell_type": "code",
      "source": [
        "# output tensor\n",
        "print(model.layers[0].output)\n",
        "print(model.layers[0].weights)"
      ],
      "execution_count": 0,
      "outputs": [
        {
          "output_type": "stream",
          "text": [
            "Tensor(\"dense_15/Sigmoid:0\", shape=(?, 1), dtype=float32)\n",
            "[<tf.Variable 'dense_15/kernel:0' shape=(2, 1) dtype=float32_ref>, <tf.Variable 'dense_15/bias:0' shape=(1,) dtype=float32_ref>]\n"
          ],
          "name": "stdout"
        }
      ]
    },
    {
      "metadata": {
        "id": "4T6GyIYX4_6e",
        "colab_type": "code",
        "colab": {},
        "outputId": "9200a2e6-531a-4a62-df0f-0a00f58d57dd"
      },
      "cell_type": "code",
      "source": [
        "def plot_decision_boundary(model, X, y):\n",
        "    amin, bmin = X.min(axis=0) - 0.1\n",
        "    amax, bmax = X.max(axis=0) + 0.1\n",
        "    hticks = np.linspace(amin, amax, 101)\n",
        "    vticks = np.linspace(bmin, bmax, 101)\n",
        "    \n",
        "    aa, bb = np.meshgrid(hticks, vticks)\n",
        "    ab = np.c_[aa.ravel(), bb.ravel()]\n",
        "    \n",
        "    c = model.predict(ab)\n",
        "    cc = c.reshape(aa.shape)\n",
        "\n",
        "    plt.figure(figsize=(12, 8))\n",
        "    plt.contourf(aa, bb, cc, cmap='bwr', alpha=0.2)\n",
        "    plt.plot(X[y==0, 0], X[y==0, 1], 'ob', alpha=0.5)\n",
        "    plt.plot(X[y==1, 0], X[y==1, 1], 'xr', alpha=0.5)\n",
        "    plt.legend(['0', '1'])\n",
        "    \n",
        "plot_decision_boundary(model, X, Y)"
      ],
      "execution_count": 0,
      "outputs": [
        {
          "output_type": "display_data",
          "data": {
            "image/png": "[encoded data removed]",
            "text/plain": [
              "<matplotlib.figure.Figure at 0x7ff7b453c198>"
            ]
          },
          "metadata": {
            "tags": []
          }
        }
      ]
    },
    {
      "metadata": {
        "id": "L6A9h_R34_6k",
        "colab_type": "text"
      },
      "cell_type": "markdown",
      "source": [
        "# Multiclass classification"
      ]
    },
    {
      "metadata": {
        "id": "hb5j8JYu4_6m",
        "colab_type": "code",
        "colab": {}
      },
      "cell_type": "code",
      "source": [
        "df = pd.read_csv('../../material_github/data/iris.csv')"
      ],
      "execution_count": 0,
      "outputs": []
    },
    {
      "metadata": {
        "id": "qJNT9MWv4_6r",
        "colab_type": "code",
        "colab": {},
        "outputId": "8a7c3a77-9ea1-4a8b-9d48-02b5295760db"
      },
      "cell_type": "code",
      "source": [
        "df.head()\n",
        "        #4 features so 4 input units\n",
        "              # 3 input units"
      ],
      "execution_count": 0,
      "outputs": [
        {
          "output_type": "execute_result",
          "data": {
            "text/html": [
              "<div>\n",
              "<table border=\"1\" class=\"dataframe\">\n",
              "  <thead>\n",
              "    <tr style=\"text-align: right;\">\n",
              "      <th></th>\n",
              "      <th>sepal_length</th>\n",
              "      <th>sepal_width</th>\n",
              "      <th>petal_length</th>\n",
              "      <th>petal_width</th>\n",
              "      <th>species</th>\n",
              "    </tr>\n",
              "  </thead>\n",
              "  <tbody>\n",
              "    <tr>\n",
              "      <th>0</th>\n",
              "      <td>5.1</td>\n",
              "      <td>3.5</td>\n",
              "      <td>1.4</td>\n",
              "      <td>0.2</td>\n",
              "      <td>setosa</td>\n",
              "    </tr>\n",
              "    <tr>\n",
              "      <th>1</th>\n",
              "      <td>4.9</td>\n",
              "      <td>3.0</td>\n",
              "      <td>1.4</td>\n",
              "      <td>0.2</td>\n",
              "      <td>setosa</td>\n",
              "    </tr>\n",
              "    <tr>\n",
              "      <th>2</th>\n",
              "      <td>4.7</td>\n",
              "      <td>3.2</td>\n",
              "      <td>1.3</td>\n",
              "      <td>0.2</td>\n",
              "      <td>setosa</td>\n",
              "    </tr>\n",
              "    <tr>\n",
              "      <th>3</th>\n",
              "      <td>4.6</td>\n",
              "      <td>3.1</td>\n",
              "      <td>1.5</td>\n",
              "      <td>0.2</td>\n",
              "      <td>setosa</td>\n",
              "    </tr>\n",
              "    <tr>\n",
              "      <th>4</th>\n",
              "      <td>5.0</td>\n",
              "      <td>3.6</td>\n",
              "      <td>1.4</td>\n",
              "      <td>0.2</td>\n",
              "      <td>setosa</td>\n",
              "    </tr>\n",
              "  </tbody>\n",
              "</table>\n",
              "</div>"
            ],
            "text/plain": [
              "   sepal_length  sepal_width  petal_length  petal_width species\n",
              "0           5.1          3.5           1.4          0.2  setosa\n",
              "1           4.9          3.0           1.4          0.2  setosa\n",
              "2           4.7          3.2           1.3          0.2  setosa\n",
              "3           4.6          3.1           1.5          0.2  setosa\n",
              "4           5.0          3.6           1.4          0.2  setosa"
            ]
          },
          "metadata": {
            "tags": []
          },
          "execution_count": 98
        }
      ]
    },
    {
      "metadata": {
        "id": "hSaPoOpe4_6x",
        "colab_type": "code",
        "colab": {}
      },
      "cell_type": "code",
      "source": [
        "X = df[['sepal_length','sepal_width','petal_length','petal_width']].values"
      ],
      "execution_count": 0,
      "outputs": []
    },
    {
      "metadata": {
        "id": "8A63r3vC4_60",
        "colab_type": "code",
        "colab": {},
        "outputId": "35759e76-f04d-40a8-f1f3-c9cce6d27dc7"
      },
      "cell_type": "code",
      "source": [
        "target_names = df['species'].unique()\n",
        "target_names"
      ],
      "execution_count": 0,
      "outputs": [
        {
          "output_type": "execute_result",
          "data": {
            "text/plain": [
              "array(['setosa', 'versicolor', 'virginica'], dtype=object)"
            ]
          },
          "metadata": {
            "tags": []
          },
          "execution_count": 81
        }
      ]
    },
    {
      "metadata": {
        "id": "G1HUrNJ-4_64",
        "colab_type": "code",
        "colab": {},
        "outputId": "60564004-532a-496e-ddf8-7532008c836c"
      },
      "cell_type": "code",
      "source": [
        "target_dict  ={n:i for i,n in enumerate(target_names)}\n",
        "target_dict       #convert in dictonary"
      ],
      "execution_count": 0,
      "outputs": [
        {
          "output_type": "execute_result",
          "data": {
            "text/plain": [
              "{'setosa': 0, 'versicolor': 1, 'virginica': 2}"
            ]
          },
          "metadata": {
            "tags": []
          },
          "execution_count": 83
        }
      ]
    },
    {
      "metadata": {
        "id": "ogP2icZ84_68",
        "colab_type": "code",
        "colab": {}
      },
      "cell_type": "code",
      "source": [
        "# convert all 'species' in 0 1 2 \n",
        "Y = df['species'].map(target_dict) "
      ],
      "execution_count": 0,
      "outputs": []
    },
    {
      "metadata": {
        "id": "oNnL9gYD4_7A",
        "colab_type": "code",
        "colab": {},
        "outputId": "3b4030c4-c50d-46e3-f10c-9dd9c95df27b"
      },
      "cell_type": "code",
      "source": [
        "Y.head()"
      ],
      "execution_count": 0,
      "outputs": [
        {
          "output_type": "execute_result",
          "data": {
            "text/plain": [
              "0    0\n",
              "1    0\n",
              "2    0\n",
              "3    0\n",
              "4    0\n",
              "Name: species, dtype: int64"
            ]
          },
          "metadata": {
            "tags": []
          },
          "execution_count": 99
        }
      ]
    },
    {
      "metadata": {
        "id": "eBwpL1ra4_7E",
        "colab_type": "code",
        "colab": {},
        "outputId": "981c5d42-03e4-43a8-fd2d-030fcedfa35a"
      },
      "cell_type": "code",
      "source": [
        "#finally all in form of matric np array \n",
        "#where      1-First class                  2-second class               3-Third class\n",
        "from keras.utils.np_utils import to_categorical\n",
        "y_cat = to_categorical(Y) #y_cat is numpy array\n",
        "y_cat[:10]"
      ],
      "execution_count": 0,
      "outputs": [
        {
          "output_type": "execute_result",
          "data": {
            "text/plain": [
              "array([[1., 0., 0.],\n",
              "       [1., 0., 0.],\n",
              "       [1., 0., 0.],\n",
              "       [1., 0., 0.],\n",
              "       [1., 0., 0.],\n",
              "       [1., 0., 0.],\n",
              "       [1., 0., 0.],\n",
              "       [1., 0., 0.],\n",
              "       [1., 0., 0.],\n",
              "       [1., 0., 0.]])"
            ]
          },
          "metadata": {
            "tags": []
          },
          "execution_count": 105
        }
      ]
    },
    {
      "metadata": {
        "id": "zUOrutL-4_7J",
        "colab_type": "code",
        "colab": {}
      },
      "cell_type": "code",
      "source": [
        "x_train,x_test,y_train,y_test = train_test_split(X,y_cat,test_size=0.2)\n",
        "#x_train.shape"
      ],
      "execution_count": 0,
      "outputs": []
    },
    {
      "metadata": {
        "id": "39xxSItQ4_7N",
        "colab_type": "code",
        "colab": {}
      },
      "cell_type": "code",
      "source": [
        "model = Sequential()\n",
        "model.add(Dense(3, input_shape=(4,), activation='softmax'))\n",
        "model.compile(Adam(lr=0.4),\n",
        "              loss='categorical_crossentropy',\n",
        "              metrics=['accuracy'])"
      ],
      "execution_count": 0,
      "outputs": []
    },
    {
      "metadata": {
        "id": "srEIs-gv4_7R",
        "colab_type": "code",
        "colab": {},
        "outputId": "413bf90b-d7f9-4387-83ad-ef65b1f95ed8"
      },
      "cell_type": "code",
      "source": [
        "model.fit(x_train, y_train, epochs=20, validation_split=0.1)"
      ],
      "execution_count": 0,
      "outputs": [
        {
          "output_type": "stream",
          "text": [
            "Train on 108 samples, validate on 12 samples\n",
            "Epoch 1/20\n",
            "108/108 [==============================] - 0s - loss: 4.3026 - acc: 0.3796 - val_loss: 1.7841 - val_acc: 0.6667\n",
            "Epoch 2/20\n",
            "108/108 [==============================] - 0s - loss: 2.0694 - acc: 0.6481 - val_loss: 4.0104 - val_acc: 0.5833\n",
            "Epoch 3/20\n",
            "108/108 [==============================] - 0s - loss: 2.1133 - acc: 0.6852 - val_loss: 0.8332 - val_acc: 0.6667\n",
            "Epoch 4/20\n",
            "108/108 [==============================] - 0s - loss: 1.0240 - acc: 0.6667 - val_loss: 0.6996 - val_acc: 0.5833\n",
            "Epoch 5/20\n",
            "108/108 [==============================] - 0s - loss: 0.9334 - acc: 0.6667 - val_loss: 0.9681 - val_acc: 0.5833\n",
            "Epoch 6/20\n",
            "108/108 [==============================] - 0s - loss: 0.4659 - acc: 0.7778 - val_loss: 0.5390 - val_acc: 0.6667\n",
            "Epoch 7/20\n",
            "108/108 [==============================] - 0s - loss: 0.4080 - acc: 0.7407 - val_loss: 0.6712 - val_acc: 0.5833\n",
            "Epoch 8/20\n",
            "108/108 [==============================] - 0s - loss: 0.3485 - acc: 0.7963 - val_loss: 0.5147 - val_acc: 0.6667\n",
            "Epoch 9/20\n",
            "108/108 [==============================] - 0s - loss: 0.4395 - acc: 0.7593 - val_loss: 0.4491 - val_acc: 0.5833\n",
            "Epoch 10/20\n",
            "108/108 [==============================] - 0s - loss: 0.2517 - acc: 0.8981 - val_loss: 0.3331 - val_acc: 0.7500\n",
            "Epoch 11/20\n",
            "108/108 [==============================] - 0s - loss: 0.2598 - acc: 0.8796 - val_loss: 0.3050 - val_acc: 0.9167\n",
            "Epoch 12/20\n",
            "108/108 [==============================] - 0s - loss: 0.2149 - acc: 0.9167 - val_loss: 0.2109 - val_acc: 1.0000\n",
            "Epoch 13/20\n",
            "108/108 [==============================] - 0s - loss: 0.2052 - acc: 0.9259 - val_loss: 0.1745 - val_acc: 1.0000\n",
            "Epoch 14/20\n",
            "108/108 [==============================] - 0s - loss: 0.1656 - acc: 0.9444 - val_loss: 0.1603 - val_acc: 1.0000\n",
            "Epoch 15/20\n",
            "108/108 [==============================] - 0s - loss: 0.1885 - acc: 0.9444 - val_loss: 0.1502 - val_acc: 1.0000\n",
            "Epoch 16/20\n",
            "108/108 [==============================] - 0s - loss: 0.1719 - acc: 0.9537 - val_loss: 0.1430 - val_acc: 1.0000\n",
            "Epoch 17/20\n",
            "108/108 [==============================] - 0s - loss: 0.1752 - acc: 0.9444 - val_loss: 0.1364 - val_acc: 1.0000\n",
            "Epoch 18/20\n",
            "108/108 [==============================] - 0s - loss: 0.1557 - acc: 0.9630 - val_loss: 0.1370 - val_acc: 1.0000\n",
            "Epoch 19/20\n",
            "108/108 [==============================] - 0s - loss: 0.1589 - acc: 0.9444 - val_loss: 0.1250 - val_acc: 1.0000\n",
            "Epoch 20/20\n",
            "108/108 [==============================] - 0s - loss: 0.1462 - acc: 0.9444 - val_loss: 0.1208 - val_acc: 1.0000\n"
          ],
          "name": "stdout"
        },
        {
          "output_type": "execute_result",
          "data": {
            "text/plain": [
              "<keras.callbacks.History at 0x7ff7b85b42e8>"
            ]
          },
          "metadata": {
            "tags": []
          },
          "execution_count": 121
        }
      ]
    },
    {
      "metadata": {
        "id": "Co2YkLqX4_7Y",
        "colab_type": "code",
        "colab": {},
        "outputId": "3b5a4245-0820-4dc4-b0e5-2b408293ab57"
      },
      "cell_type": "code",
      "source": [
        "y_pred  = model.predict(x_test)\n",
        "y_pred[:5]"
      ],
      "execution_count": 0,
      "outputs": [
        {
          "output_type": "execute_result",
          "data": {
            "text/plain": [
              "array([[2.2492019e-02, 9.6520287e-01, 1.2305144e-02],\n",
              "       [4.9589545e-07, 9.2882931e-02, 9.0711659e-01],\n",
              "       [9.8866373e-01, 1.1335966e-02, 3.6792397e-07],\n",
              "       [2.8381723e-03, 9.0547144e-01, 9.1690332e-02],\n",
              "       [5.5260694e-04, 8.1753135e-01, 1.8191609e-01]], dtype=float32)"
            ]
          },
          "metadata": {
            "tags": []
          },
          "execution_count": 136
        }
      ]
    },
    {
      "metadata": {
        "id": "aeagNW-h4_7h",
        "colab_type": "code",
        "colab": {},
        "outputId": "46cab5bd-2705-4357-d5f2-5c021aa9c23b"
      },
      "cell_type": "code",
      "source": [
        "y_test_class = np.argmax(y_test, axis=1)\n",
        "y_pred_class = np.argmax(y_pred, axis=1)\n",
        "\n",
        "print(y_test_class)\n",
        "y_pred_class\n"
      ],
      "execution_count": 0,
      "outputs": [
        {
          "output_type": "stream",
          "text": [
            "[1 2 0 1 1 1 1 0 2 0 1 0 2 1 1 2 2 1 2 0 2 0 0 2 2 0 1 2 0 1]\n"
          ],
          "name": "stdout"
        },
        {
          "output_type": "execute_result",
          "data": {
            "text/plain": [
              "array([1, 2, 0, 1, 1, 1, 1, 0, 2, 0, 1, 0, 2, 1, 1, 2, 2, 1, 2, 0, 2, 0,\n",
              "       0, 2, 2, 0, 1, 2, 0, 1])"
            ]
          },
          "metadata": {
            "tags": []
          },
          "execution_count": 137
        }
      ]
    },
    {
      "metadata": {
        "id": "uWnhrvLx4_7m",
        "colab_type": "code",
        "colab": {},
        "outputId": "d6e439fc-0cde-446b-c7c6-699a3b249c0a"
      },
      "cell_type": "code",
      "source": [
        "from sklearn.metrics import classification_report\n",
        "print(classification_report(y_test_class, y_pred_class))"
      ],
      "execution_count": 0,
      "outputs": [
        {
          "output_type": "stream",
          "text": [
            "             precision    recall  f1-score   support\n",
            "\n",
            "          0       1.00      1.00      1.00         9\n",
            "          1       1.00      1.00      1.00        11\n",
            "          2       1.00      1.00      1.00        10\n",
            "\n",
            "avg / total       1.00      1.00      1.00        30\n",
            "\n"
          ],
          "name": "stdout"
        }
      ]
    },
    {
      "metadata": {
        "id": "4WVR5MpF4_7s",
        "colab_type": "code",
        "colab": {},
        "outputId": "a53b4f69-9de1-4e73-deb6-cc61d8e16fb3"
      },
      "cell_type": "code",
      "source": [
        "from sklearn.metrics import accuracy_score, confusion_matrix\n",
        "confusion_matrix(y_test_class, y_pred_class)"
      ],
      "execution_count": 0,
      "outputs": [
        {
          "output_type": "execute_result",
          "data": {
            "text/plain": [
              "array([[ 9,  0,  0],\n",
              "       [ 0, 11,  0],\n",
              "       [ 0,  0, 10]])"
            ]
          },
          "metadata": {
            "tags": []
          },
          "execution_count": 140
        }
      ]
    },
    {
      "metadata": {
        "id": "3I4ZajU94_7w",
        "colab_type": "code",
        "colab": {}
      },
      "cell_type": "code",
      "source": [
        ""
      ],
      "execution_count": 0,
      "outputs": []
    },
    {
      "metadata": {
        "id": "TUGBTIbm4_7y",
        "colab_type": "code",
        "colab": {}
      },
      "cell_type": "code",
      "source": [
        ""
      ],
      "execution_count": 0,
      "outputs": []
    }
  ]
}