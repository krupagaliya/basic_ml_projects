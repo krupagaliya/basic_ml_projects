{
  "nbformat": 4,
  "nbformat_minor": 0,
  "metadata": {
    "colab": {
      "name": "RNN.ipynb",
      "version": "0.3.2",
      "provenance": []
    },
    "kernelspec": {
      "name": "python3",
      "display_name": "Python 3"
    }
  },
  "cells": [
    {
      "metadata": {
        "id": "QBfXyXDnsNdO",
        "colab_type": "text"
      },
      "cell_type": "markdown",
      "source": [
        "# **Example of LSTM to learn a sequence**   \n",
        "*Credit* [Jason Brownlee](https://machinelearningmastery.com/5-step-life-cycle-long-short-term-memory-models-keras/)"
      ]
    },
    {
      "metadata": {
        "id": "KVOnbCh-VBxT",
        "colab_type": "code",
        "colab": {
          "base_uri": "https://localhost:8080/",
          "height": 108
        },
        "outputId": "4805d00b-0b92-4f11-a1f3-10848bcf9a8e"
      },
      "cell_type": "code",
      "source": [
        "#creation of dataset\n",
        "import numpy as np\n",
        "\n",
        "xa = np.arange(0.0, 0.9, 0.1)  \n",
        "print(type(xa))\n",
        "x = xa[:,None,None]\n",
        "print(x.shape)\n",
        "\n",
        "print(\"------------------\")\n",
        "\n",
        "y = np.arange(0.1,1.0,0.1)\n",
        "\n",
        "print(y)\n",
        "y.shape"
      ],
      "execution_count": 113,
      "outputs": [
        {
          "output_type": "stream",
          "text": [
            "<class 'numpy.ndarray'>\n",
            "(9, 1, 1)\n",
            "------------------\n",
            "[0.1 0.2 0.3 0.4 0.5 0.6 0.7 0.8 0.9]\n"
          ],
          "name": "stdout"
        },
        {
          "output_type": "execute_result",
          "data": {
            "text/plain": [
              "(9,)"
            ]
          },
          "metadata": {
            "tags": []
          },
          "execution_count": 113
        }
      ]
    },
    {
      "metadata": {
        "id": "-trQbZQoVBln",
        "colab_type": "code",
        "colab": {
          "base_uri": "https://localhost:8080/",
          "height": 217
        },
        "outputId": "35062709-65d2-405d-a6db-1c3567b7d122"
      },
      "cell_type": "code",
      "source": [
        "#model defination\n",
        "from keras.models import Sequential\n",
        "from keras.layers import Dense\n",
        "from keras.layers import LSTM\n",
        "from keras.optimizers import Adam, SGD\n",
        "\n",
        "model = Sequential()\n",
        "model.add(LSTM(20,input_shape=(1,1)))\n",
        "model.add(Dense(1))\n",
        "\n",
        "#summary of model\n",
        "model.summary()"
      ],
      "execution_count": 114,
      "outputs": [
        {
          "output_type": "stream",
          "text": [
            "_________________________________________________________________\n",
            "Layer (type)                 Output Shape              Param #   \n",
            "=================================================================\n",
            "lstm_17 (LSTM)               (None, 20)                1760      \n",
            "_________________________________________________________________\n",
            "dense_17 (Dense)             (None, 1)                 21        \n",
            "=================================================================\n",
            "Total params: 1,781\n",
            "Trainable params: 1,781\n",
            "Non-trainable params: 0\n",
            "_________________________________________________________________\n"
          ],
          "name": "stdout"
        }
      ]
    },
    {
      "metadata": {
        "id": "he5ZC3P9bdv2",
        "colab_type": "code",
        "colab": {}
      },
      "cell_type": "code",
      "source": [
        "#model compilation with Adam where learning rate is 0.2\n",
        "\n",
        "model.compile(Adam(lr=0.2),loss='mean_squared_error')"
      ],
      "execution_count": 0,
      "outputs": []
    },
    {
      "metadata": {
        "id": "qiCWkfnMbpgG",
        "colab_type": "code",
        "colab": {
          "base_uri": "https://localhost:8080/",
          "height": 2563
        },
        "outputId": "f66b7fc0-ddab-4765-f3c6-7845054a9752"
      },
      "cell_type": "code",
      "source": [
        "#Training the model with 70 epochs\n",
        "model.fit(x,y,epochs=70,verbose=1)\n",
        "\n",
        "#model prediction\n",
        "result = model.predict(x)"
      ],
      "execution_count": 116,
      "outputs": [
        {
          "output_type": "stream",
          "text": [
            "Epoch 1/70\n",
            "9/9 [==============================] - 2s 192ms/step - loss: 0.3561\n",
            "Epoch 2/70\n",
            "9/9 [==============================] - 0s 940us/step - loss: 0.0699\n",
            "Epoch 3/70\n",
            "9/9 [==============================] - 0s 572us/step - loss: 0.0690\n",
            "Epoch 4/70\n",
            "9/9 [==============================] - 0s 534us/step - loss: 0.0598\n",
            "Epoch 5/70\n",
            "9/9 [==============================] - 0s 520us/step - loss: 0.0624\n",
            "Epoch 6/70\n",
            "9/9 [==============================] - 0s 545us/step - loss: 0.0229\n",
            "Epoch 7/70\n",
            "9/9 [==============================] - 0s 481us/step - loss: 0.0594\n",
            "Epoch 8/70\n",
            "9/9 [==============================] - 0s 552us/step - loss: 0.0144\n",
            "Epoch 9/70\n",
            "9/9 [==============================] - 0s 524us/step - loss: 0.0245\n",
            "Epoch 10/70\n",
            "9/9 [==============================] - 0s 521us/step - loss: 0.0272\n",
            "Epoch 11/70\n",
            "9/9 [==============================] - 0s 512us/step - loss: 2.4643e-04\n",
            "Epoch 12/70\n",
            "9/9 [==============================] - 0s 389us/step - loss: 0.0244\n",
            "Epoch 13/70\n",
            "9/9 [==============================] - 0s 265us/step - loss: 0.0124\n",
            "Epoch 14/70\n",
            "9/9 [==============================] - 0s 269us/step - loss: 0.0047\n",
            "Epoch 15/70\n",
            "9/9 [==============================] - 0s 335us/step - loss: 0.0216\n",
            "Epoch 16/70\n",
            "9/9 [==============================] - 0s 318us/step - loss: 0.0081\n",
            "Epoch 17/70\n",
            "9/9 [==============================] - 0s 289us/step - loss: 0.0057\n",
            "Epoch 18/70\n",
            "9/9 [==============================] - 0s 319us/step - loss: 0.0148\n",
            "Epoch 19/70\n",
            "9/9 [==============================] - 0s 254us/step - loss: 0.0047\n",
            "Epoch 20/70\n",
            "9/9 [==============================] - 0s 266us/step - loss: 0.0019\n",
            "Epoch 21/70\n",
            "9/9 [==============================] - 0s 299us/step - loss: 0.0086\n",
            "Epoch 22/70\n",
            "9/9 [==============================] - 0s 308us/step - loss: 0.0047\n",
            "Epoch 23/70\n",
            "9/9 [==============================] - 0s 287us/step - loss: 5.2524e-04\n",
            "Epoch 24/70\n",
            "9/9 [==============================] - 0s 297us/step - loss: 0.0051\n",
            "Epoch 25/70\n",
            "9/9 [==============================] - 0s 283us/step - loss: 0.0060\n",
            "Epoch 26/70\n",
            "9/9 [==============================] - 0s 331us/step - loss: 0.0020\n",
            "Epoch 27/70\n",
            "9/9 [==============================] - 0s 300us/step - loss: 0.0029\n",
            "Epoch 28/70\n",
            "9/9 [==============================] - 0s 286us/step - loss: 0.0054\n",
            "Epoch 29/70\n",
            "9/9 [==============================] - 0s 215us/step - loss: 0.0032\n",
            "Epoch 30/70\n",
            "9/9 [==============================] - 0s 236us/step - loss: 0.0012\n",
            "Epoch 31/70\n",
            "9/9 [==============================] - 0s 218us/step - loss: 0.0029\n",
            "Epoch 32/70\n",
            "9/9 [==============================] - 0s 272us/step - loss: 0.0028\n",
            "Epoch 33/70\n",
            "9/9 [==============================] - 0s 271us/step - loss: 5.5353e-04\n",
            "Epoch 34/70\n",
            "9/9 [==============================] - 0s 367us/step - loss: 0.0011\n",
            "Epoch 35/70\n",
            "9/9 [==============================] - 0s 321us/step - loss: 0.0023\n",
            "Epoch 36/70\n",
            "9/9 [==============================] - 0s 229us/step - loss: 0.0010\n",
            "Epoch 37/70\n",
            "9/9 [==============================] - 0s 223us/step - loss: 7.6609e-04\n",
            "Epoch 38/70\n",
            "9/9 [==============================] - 0s 398us/step - loss: 0.0020\n",
            "Epoch 39/70\n",
            "9/9 [==============================] - 0s 342us/step - loss: 0.0014\n",
            "Epoch 40/70\n",
            "9/9 [==============================] - 0s 483us/step - loss: 6.2600e-04\n",
            "Epoch 41/70\n",
            "9/9 [==============================] - 0s 244us/step - loss: 0.0014\n",
            "Epoch 42/70\n",
            "9/9 [==============================] - 0s 264us/step - loss: 0.0012\n",
            "Epoch 43/70\n",
            "9/9 [==============================] - 0s 455us/step - loss: 3.3455e-04\n",
            "Epoch 44/70\n",
            "9/9 [==============================] - 0s 455us/step - loss: 7.2151e-04\n",
            "Epoch 45/70\n",
            "9/9 [==============================] - 0s 330us/step - loss: 9.4177e-04\n",
            "Epoch 46/70\n",
            "9/9 [==============================] - 0s 400us/step - loss: 3.7561e-04\n",
            "Epoch 47/70\n",
            "9/9 [==============================] - 0s 286us/step - loss: 5.2494e-04\n"
          ],
          "name": "stdout"
        },
        {
          "output_type": "stream",
          "text": [
            "Epoch 48/70\n",
            "9/9 [==============================] - 0s 398us/step - loss: 8.8620e-04\n",
            "Epoch 49/70\n",
            "9/9 [==============================] - 0s 270us/step - loss: 5.2191e-04\n",
            "Epoch 50/70\n",
            "9/9 [==============================] - 0s 276us/step - loss: 4.2023e-04\n",
            "Epoch 51/70\n",
            "9/9 [==============================] - 0s 320us/step - loss: 6.9588e-04\n",
            "Epoch 52/70\n",
            "9/9 [==============================] - 0s 230us/step - loss: 4.5168e-04\n",
            "Epoch 53/70\n",
            "9/9 [==============================] - 0s 259us/step - loss: 2.4958e-04\n",
            "Epoch 54/70\n",
            "9/9 [==============================] - 0s 256us/step - loss: 4.5958e-04\n",
            "Epoch 55/70\n",
            "9/9 [==============================] - 0s 219us/step - loss: 3.4979e-04\n",
            "Epoch 56/70\n",
            "9/9 [==============================] - 0s 414us/step - loss: 1.8732e-04\n",
            "Epoch 57/70\n",
            "9/9 [==============================] - 0s 770us/step - loss: 3.7284e-04\n",
            "Epoch 58/70\n",
            "9/9 [==============================] - 0s 326us/step - loss: 3.3043e-04\n",
            "Epoch 59/70\n",
            "9/9 [==============================] - 0s 355us/step - loss: 2.0294e-04\n",
            "Epoch 60/70\n",
            "9/9 [==============================] - 0s 318us/step - loss: 3.2822e-04\n",
            "Epoch 61/70\n",
            "9/9 [==============================] - 0s 305us/step - loss: 2.7318e-04\n",
            "Epoch 62/70\n",
            "9/9 [==============================] - 0s 279us/step - loss: 1.5888e-04\n",
            "Epoch 63/70\n",
            "9/9 [==============================] - 0s 434us/step - loss: 2.4074e-04\n",
            "Epoch 64/70\n",
            "9/9 [==============================] - 0s 216us/step - loss: 1.8973e-04\n",
            "Epoch 65/70\n",
            "9/9 [==============================] - 0s 238us/step - loss: 1.2001e-04\n",
            "Epoch 66/70\n",
            "9/9 [==============================] - 0s 238us/step - loss: 1.9482e-04\n",
            "Epoch 67/70\n",
            "9/9 [==============================] - 0s 219us/step - loss: 1.5895e-04\n",
            "Epoch 68/70\n",
            "9/9 [==============================] - 0s 272us/step - loss: 1.2198e-04\n",
            "Epoch 69/70\n",
            "9/9 [==============================] - 0s 201us/step - loss: 1.7666e-04\n",
            "Epoch 70/70\n",
            "9/9 [==============================] - 0s 204us/step - loss: 1.3302e-04\n"
          ],
          "name": "stdout"
        }
      ]
    },
    {
      "metadata": {
        "id": "baQifv8-qhqD",
        "colab_type": "code",
        "colab": {
          "base_uri": "https://localhost:8080/",
          "height": 181
        },
        "outputId": "6ae60516-fdd6-4ba7-9831-1de0c979df36"
      },
      "cell_type": "code",
      "source": [
        "result"
      ],
      "execution_count": 117,
      "outputs": [
        {
          "output_type": "execute_result",
          "data": {
            "text/plain": [
              "array([[0.09387222],\n",
              "       [0.19663006],\n",
              "       [0.3013698 ],\n",
              "       [0.40585846],\n",
              "       [0.5082518 ],\n",
              "       [0.6071308 ],\n",
              "       [0.70147645],\n",
              "       [0.7906037 ],\n",
              "       [0.874087  ]], dtype=float32)"
            ]
          },
          "metadata": {
            "tags": []
          },
          "execution_count": 117
        }
      ]
    },
    {
      "metadata": {
        "id": "7xBHRgTuduhE",
        "colab_type": "code",
        "colab": {
          "base_uri": "https://localhost:8080/",
          "height": 35
        },
        "outputId": "c7b5beaf-a1d2-4133-e4fe-497bbffbabfc"
      },
      "cell_type": "code",
      "source": [
        "from sklearn.metrics import r2_score\n",
        "print(\"The R2 score is {:0.3f}\".format(r2_score(y,result)))"
      ],
      "execution_count": 118,
      "outputs": [
        {
          "output_type": "stream",
          "text": [
            "The R2 score is 0.998\n"
          ],
          "name": "stdout"
        }
      ]
    },
    {
      "metadata": {
        "id": "SnZcRbZlqKx9",
        "colab_type": "code",
        "colab": {}
      },
      "cell_type": "code",
      "source": [
        ""
      ],
      "execution_count": 0,
      "outputs": []
    }
  ]
}